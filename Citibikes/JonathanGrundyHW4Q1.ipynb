{
 "cells": [
  {
   "cell_type": "markdown",
   "metadata": {},
   "source": [
    "Assignment 1 : Distributions\n",
    "\n",
    "Following the ipython notebook \n",
    "https://github.com/fedhere/PUI2015_fbianco/blob/master/citibikes/citibikes_compare_distributions.ipynb\n",
    "\n",
    "Test the correlation of the age distribution of Male vs Female riders and of day vs night riders\n",
    "\n",
    "Extra credit: code up your own version of the KS test and compare your result with the one obtained from scipy.stats.ks_2sample\n",
    "\n",
    "Delivery: check the ipython notebook in the  Github directory called CitiBikes you use for this week's assignment. If you work in groups, which is encouraged as usual, state your contribution in the README for the repo. \n",
    "\n",
    "75% of the grade will be based on the rendered version of the plot, 25% will be awarded if the TA can download and run the notebook (if you include any package that was not in the standard Anaconda distribution state that in your README.md, so that the TAs can install them)."
   ]
  },
  {
   "cell_type": "code",
   "execution_count": 1,
   "metadata": {
    "collapsed": false
   },
   "outputs": [
    {
     "name": "stdout",
     "output_type": "stream",
     "text": [
      "Populating the interactive namespace from numpy and matplotlib\n"
     ]
    }
   ],
   "source": [
    "#package imports\n",
    "import pylab as pl\n",
    "import pandas as pd\n",
    "import scipy.stats as sps\n",
    "import matplotlib.pyplot as plt\n",
    "import numpy as np\n",
    "import os\n",
    "%pylab inline"
   ]
  },
  {
   "cell_type": "code",
   "execution_count": 163,
   "metadata": {
    "collapsed": false
   },
   "outputs": [],
   "source": [
    "#read in the data (October 2014)\n",
    "data = pd.read_csv('201410-citibike-tripdata.csv')"
   ]
  },
  {
   "cell_type": "markdown",
   "metadata": {},
   "source": [
    "Part 1\n",
    "======="
   ]
  },
  {
   "cell_type": "code",
   "execution_count": 158,
   "metadata": {
    "collapsed": false
   },
   "outputs": [],
   "source": [
    "#data setup\n",
    "data['ageMale'] = 2015 - data['birth year'][(data['usertype'] == 'Subscriber') & (data['gender'] == 1)]\n",
    "data['ageFemale'] = 2015 - data['birth year'][(data['usertype'] == 'Subscriber') & (data['gender'] == 2)]"
   ]
  },
  {
   "cell_type": "code",
   "execution_count": 159,
   "metadata": {
    "collapsed": false
   },
   "outputs": [
    {
     "name": "stdout",
     "output_type": "stream",
     "text": [
      "(nan, 1.0)\n"
     ]
    }
   ],
   "source": [
    "#Pearson's Test\n",
    "modelP = sps.pearsonr(data['ageMale'], data['ageFemale'])\n",
    "print modelP"
   ]
  },
  {
   "cell_type": "markdown",
   "metadata": {},
   "source": [
    "Pearson's Test results:\n",
    "\n",
    "The Pearson's test appears to show that there is a perfect correlation between the two variables and that they match exactly. As an examination of the data itself shows that this is not true, this likely has to do with issues relating to Nan values in the data."
   ]
  },
  {
   "cell_type": "code",
   "execution_count": 160,
   "metadata": {
    "collapsed": false
   },
   "outputs": [
    {
     "name": "stdout",
     "output_type": "stream",
     "text": [
      "(-0.43587403520303031, 0.0)\n"
     ]
    }
   ],
   "source": [
    "#Spearman's Test\n",
    "modelS = sps.spearmanr(data['ageFemale'], data['ageMale'], axis=None)\n",
    "print modelS"
   ]
  },
  {
   "cell_type": "markdown",
   "metadata": {},
   "source": [
    "Spearman's Test results:\n",
    "\n",
    "The results from the Spearman's test shows that there is a weak correlation between the variables and that they are not related."
   ]
  },
  {
   "cell_type": "code",
   "execution_count": 161,
   "metadata": {
    "collapsed": false
   },
   "outputs": [
    {
     "name": "stdout",
     "output_type": "stream",
     "text": [
      "(0.50092372371067839, 0.0)\n"
     ]
    }
   ],
   "source": [
    "#KS test\n",
    "modelKS = sps.ks_2samp(data['ageMale'], data['ageFemale'])\n",
    "print modelKS"
   ]
  },
  {
   "cell_type": "markdown",
   "metadata": {},
   "source": [
    "K-S Model Test results:\n",
    "   \n",
    "The results from the K-S model test shows that there is no relationship between the two variables."
   ]
  },
  {
   "cell_type": "markdown",
   "metadata": {},
   "source": [
    "Part 2\n",
    "======="
   ]
  },
  {
   "cell_type": "code",
   "execution_count": 164,
   "metadata": {
    "collapsed": true
   },
   "outputs": [],
   "source": [
    "#set up information for processing\n",
    "data['date'] = pd.to_datetime(data['starttime'])\n",
    "data['starttime'] = data['date'].dt.hour"
   ]
  },
  {
   "cell_type": "code",
   "execution_count": 191,
   "metadata": {
    "collapsed": false
   },
   "outputs": [],
   "source": [
    "data['night'] = data['starttime'][(data['starttime'] < 6) & (data['starttime'] > 17)]\n",
    "data['day'] = data['starttime'][(data['starttime'] > 5) & (data['starttime'] < 18)]"
   ]
  },
  {
   "cell_type": "code",
   "execution_count": 192,
   "metadata": {
    "collapsed": false
   },
   "outputs": [
    {
     "name": "stdout",
     "output_type": "stream",
     "text": [
      "(nan, 1.0)\n"
     ]
    }
   ],
   "source": [
    "#Pearson's Test\n",
    "modelP = sps.pearsonr(data['night'], data['day'])\n",
    "\n",
    "print modelP"
   ]
  },
  {
   "cell_type": "markdown",
   "metadata": {},
   "source": [
    "Pearson's Result:\n",
    "\n",
    "The Pearson's test appears to show that there is a perfect correlation between the two variables and that they match exactly. As an examination of the data itself shows that this is not true, this likely has to do with issues relating to Nan values in the data."
   ]
  },
  {
   "cell_type": "code",
   "execution_count": 193,
   "metadata": {
    "collapsed": false
   },
   "outputs": [
    {
     "name": "stdout",
     "output_type": "stream",
     "text": [
      "(0.010155544440804505, 2.3484814495720256e-20)\n"
     ]
    }
   ],
   "source": [
    "#Spearman's Test\n",
    "modelS = sps.spearmanr(data['night'], data['day'], axis=None)\n",
    "print modelS"
   ]
  },
  {
   "cell_type": "markdown",
   "metadata": {},
   "source": [
    "The results from the Spearman's test shows that there is a weak correlation between the variables and that they are not related."
   ]
  },
  {
   "cell_type": "code",
   "execution_count": 194,
   "metadata": {
    "collapsed": false
   },
   "outputs": [
    {
     "name": "stdout",
     "output_type": "stream",
     "text": [
      "(0.70766769114926675, 0.0)\n"
     ]
    }
   ],
   "source": [
    "#KS test\n",
    "modelKS = sps.ks_2samp(data['night'], data['day'])\n",
    "print modelKS"
   ]
  },
  {
   "cell_type": "markdown",
   "metadata": {},
   "source": [
    "The results from the K-S model test shows that there is no relationship between the two variables."
   ]
  },
  {
   "cell_type": "code",
   "execution_count": null,
   "metadata": {
    "collapsed": true
   },
   "outputs": [],
   "source": []
  }
 ],
 "metadata": {
  "kernelspec": {
   "display_name": "Python 2",
   "language": "python",
   "name": "python2"
  },
  "language_info": {
   "codemirror_mode": {
    "name": "ipython",
    "version": 2
   },
   "file_extension": ".py",
   "mimetype": "text/x-python",
   "name": "python",
   "nbconvert_exporter": "python",
   "pygments_lexer": "ipython2",
   "version": "2.7.10"
  }
 },
 "nbformat": 4,
 "nbformat_minor": 0
}
