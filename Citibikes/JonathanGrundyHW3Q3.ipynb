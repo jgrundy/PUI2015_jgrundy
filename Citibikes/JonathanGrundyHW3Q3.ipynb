{
 "cells": [
  {
   "cell_type": "markdown",
   "metadata": {},
   "source": [
    "Comparison of Citibike Weekend Ridership\n",
    "====\n",
    "\n",
    "The goal of this analysis is to evaluate whether customers or subscribers are using Citibikes\n",
    "more on the weekend. The data has been pulled from October 2014, and will use tripduration as an evaluation\n",
    "of ridership use (ie total number of seconds used). The main categories that will be evaluated will be\n",
    "customers and subscribers.\n",
    "\n",
    "I've done previous evaluations of Citibike data that shows that subscribers are much more common and ridden for longer during the week (analysis done using R for City Challenge Week). Given that customers are much more likely to be using Citibikes for leisure rides (whether they be tourists or non-regular user NY natives), it's possible that customer usage on weekends might match that of subscriber usage. I'd like to test that."
   ]
  },
  {
   "cell_type": "markdown",
   "metadata": {},
   "source": [
    "Hypotheses\n",
    "======\n",
    "\n",
    "Null hypothesis: The weekend mean of the trip duration of subscribers will not be different from the mean trip duration of customers.\n",
    "\n",
    "Alternative hypothesis: The weekend means of the trip duration for subscribers will be different from the mean tripduration for customers."
   ]
  },
  {
   "cell_type": "markdown",
   "metadata": {},
   "source": [
    "Confidence interval\n",
    "======\n",
    "\n",
    "This analysis will use an alpha level of 0.05."
   ]
  },
  {
   "cell_type": "code",
   "execution_count": 1,
   "metadata": {
    "collapsed": false
   },
   "outputs": [
    {
     "name": "stdout",
     "output_type": "stream",
     "text": [
      "Populating the interactive namespace from numpy and matplotlib\n"
     ]
    }
   ],
   "source": [
    "#package imports\n",
    "import pylab as pl\n",
    "import pandas as pd\n",
    "import scipy.stats as sps\n",
    "import numpy as np\n",
    "import os\n",
    "%pylab inline"
   ]
  },
  {
   "cell_type": "code",
   "execution_count": 2,
   "metadata": {
    "collapsed": false
   },
   "outputs": [],
   "source": [
    "#read in the data and convert the starttime to a datetime object\n",
    "data = pd.read_csv('201410-citibike-tripdata.csv')\n",
    "data['date'] = pd.to_datetime(data['starttime'])"
   ]
  },
  {
   "cell_type": "code",
   "execution_count": 3,
   "metadata": {
    "collapsed": false
   },
   "outputs": [
    {
     "name": "stdout",
     "output_type": "stream",
     "text": [
      "   tripduration           starttime            stoptime  start station id  \\\n",
      "0          1027  10/1/2014 00:00:27  10/1/2014 00:17:34               479   \n",
      "1           534  10/1/2014 00:00:36  10/1/2014 00:09:30               417   \n",
      "2           416  10/1/2014 00:00:42  10/1/2014 00:07:38               327   \n",
      "3           428  10/1/2014 00:00:50  10/1/2014 00:07:58               515   \n",
      "4           281  10/1/2014 00:01:08  10/1/2014 00:05:49               497   \n",
      "\n",
      "         start station name  start station latitude  start station longitude  \\\n",
      "0           9 Ave & W 45 St               40.760193               -73.991255   \n",
      "1    Barclay St & Church St               40.712912               -74.010202   \n",
      "2  Vesey Pl & River Terrace               40.715338               -74.016584   \n",
      "3          W 43 St & 10 Ave               40.760094               -73.994618   \n",
      "4        E 17 St & Broadway               40.737050               -73.990093   \n",
      "\n",
      "   end station id           end station name  end station latitude  \\\n",
      "0             540    Lexington Ave & E 26 St             40.741473   \n",
      "1             417     Barclay St & Church St             40.712912   \n",
      "2             415  Pearl St & Hanover Square             40.704718   \n",
      "3             447            8 Ave & W 52 St             40.763707   \n",
      "4             537    Lexington Ave & E 24 St             40.740259   \n",
      "\n",
      "   end station longitude  bikeid    usertype  birth year  gender  \\\n",
      "0             -73.983209   21376  Subscriber        1977       1   \n",
      "1             -74.010202   16086  Subscriber        1974       2   \n",
      "2             -74.009260   16073  Subscriber        1990       1   \n",
      "3             -73.985162   18635  Subscriber        1966       1   \n",
      "4             -73.984092   20203  Subscriber        1979       1   \n",
      "\n",
      "                 date  \n",
      "0 2014-10-01 00:00:27  \n",
      "1 2014-10-01 00:00:36  \n",
      "2 2014-10-01 00:00:42  \n",
      "3 2014-10-01 00:00:50  \n",
      "4 2014-10-01 00:01:08  \n"
     ]
    }
   ],
   "source": [
    "print data.head()"
   ]
  },
  {
   "cell_type": "code",
   "execution_count": 3,
   "metadata": {
    "collapsed": false
   },
   "outputs": [],
   "source": [
    "#create a new column to hold an integer value for the day of the week, then subset for weekends only\n",
    "data['weekdays'] = data['date'].apply(lambda x: x.weekday())\n",
    "weekends_only = data[data['weekdays'] > 4 ]\n",
    "\n",
    "#subset the data to divide it into customers and subscribers\n",
    "weekend_subscriber = weekends_only.loc[weekends_only['usertype'] == 'Subscriber']\n",
    "weekend_customer = weekends_only.loc[weekends_only['usertype'] == 'Customer']"
   ]
  },
  {
   "cell_type": "code",
   "execution_count": 4,
   "metadata": {
    "collapsed": false
   },
   "outputs": [
    {
     "name": "stdout",
     "output_type": "stream",
     "text": [
      "Subscriber mean: 807.197731839\n",
      "Customer mean: 1750.75005592\n"
     ]
    }
   ],
   "source": [
    "#print the mean of the weekend subscribers and weekend customers\n",
    "print \"Subscriber mean:\", mean(weekend_subscriber['tripduration'])\n",
    "print \"Customer mean:\", mean(weekend_customer['tripduration'])"
   ]
  },
  {
   "cell_type": "code",
   "execution_count": 5,
   "metadata": {
    "collapsed": false
   },
   "outputs": [
    {
     "name": "stdout",
     "output_type": "stream",
     "text": [
      "T = -20.1240564051, p = 1.96874457874e-89\n",
      "Degrees of freedom: 162705\n"
     ]
    }
   ],
   "source": [
    "#compute test statistic: t test for two independent means\n",
    "model_t, model_p = sps.ttest_ind(weekend_subscriber['tripduration'], weekend_customer['tripduration'], \n",
    "                                 equal_var = False)\n",
    "\n",
    "print \"T = %s, p = %s\" % (model_t, model_p)\n",
    "print \"Degrees of freedom:\", len(weekend_subscriber) + len(weekend_customer) - 2"
   ]
  },
  {
   "cell_type": "markdown",
   "metadata": {
    "collapsed": true
   },
   "source": [
    "Interpretations\n",
    "======\n",
    "\n",
    "Given that we were doing a 2-mean t-test with 162705 degrees of freedom, the threshold t-value would be +/-1.96. Since my t-value was -20.124, we would reject the null hypothesis that the two means are the same."
   ]
  },
  {
   "cell_type": "code",
   "execution_count": null,
   "metadata": {
    "collapsed": true
   },
   "outputs": [],
   "source": []
  }
 ],
 "metadata": {
  "kernelspec": {
   "display_name": "Python 2",
   "language": "python",
   "name": "python2"
  },
  "language_info": {
   "codemirror_mode": {
    "name": "ipython",
    "version": 2
   },
   "file_extension": ".py",
   "mimetype": "text/x-python",
   "name": "python",
   "nbconvert_exporter": "python",
   "pygments_lexer": "ipython2",
   "version": "2.7.10"
  }
 },
 "nbformat": 4,
 "nbformat_minor": 0
}
