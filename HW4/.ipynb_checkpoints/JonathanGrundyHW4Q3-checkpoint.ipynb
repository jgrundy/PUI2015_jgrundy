{
 "cells": [
  {
   "cell_type": "code",
   "execution_count": 1,
   "metadata": {
    "collapsed": false
   },
   "outputs": [
    {
     "name": "stdout",
     "output_type": "stream",
     "text": [
      "Populating the interactive namespace from numpy and matplotlib\n"
     ]
    }
   ],
   "source": [
    "import pylab as pl\n",
    "import pandas as pd\n",
    "import numpy as np\n",
    "import os\n",
    "import scipy.stats as sps\n",
    "%pylab inline"
   ]
  },
  {
   "cell_type": "code",
   "execution_count": 2,
   "metadata": {
    "collapsed": true
   },
   "outputs": [],
   "source": [
    "#import data\n",
    "df_Jan = pd.read_csv('201501-citibike-tripdata.csv')\n",
    "df_Feb = pd.read_csv('201502-citibike-tripdata.csv')\n",
    "df_Mar = pd.read_csv('201503-citibike-tripdata.csv')\n",
    "df_Apr = pd.read_csv('201504-citibike-tripdata.csv')\n",
    "df_May = pd.read_csv('201505-citibike-tripdata.csv')\n",
    "df_Jun = pd.read_csv('201506-citibike-tripdata.csv')\n",
    "df_Jul = pd.read_csv('201507-citibike-tripdata.csv')\n",
    "df_Aug = pd.read_csv('201508-citibike-tripdata.csv')\n",
    "df_Sep = pd.read_csv('201409-citibike-tripdata.csv')\n",
    "df_Oct = pd.read_csv('201410-citibike-tripdata.csv')\n",
    "df_Nov = pd.read_csv('201411-citibike-tripdata.csv')\n",
    "df_Dec = pd.read_csv('201412-citibike-tripdata.csv')"
   ]
  },
  {
   "cell_type": "code",
   "execution_count": 11,
   "metadata": {
    "collapsed": false
   },
   "outputs": [],
   "source": [
    "#get the ages from each of the months\n",
    "df_Jan['age'] = 2015-df_Jan['birth year'][df_Jan['usertype'] == 'Subscriber']\n",
    "df_Feb['age'] = 2015-df_Feb['birth year'][df_Feb['usertype'] == 'Subscriber']\n",
    "df_Mar['age'] = 2015-df_Mar['birth year'][df_Mar['usertype'] == 'Subscriber']\n",
    "df_Apr['age'] = 2015-df_Apr['birth year'][df_Apr['usertype'] == 'Subscriber']\n",
    "df_May['age'] = 2015-df_May['birth year'][df_May['usertype'] == 'Subscriber']\n",
    "df_Jun['age'] = 2015-df_Jun['birth year'][df_Jun['usertype'] == 'Subscriber']\n",
    "df_Jul['age'] = 2015-df_Jul['birth year'][df_Jul['usertype'] == 'Subscriber']\n",
    "df_Aug['age'] = 2015-df_Aug['birth year'][df_Aug['usertype'] == 'Subscriber']\n",
    "df_Sep['age'] = 2015-df_Sep['birth year'][df_Sep['usertype'] == 'Subscriber']\n",
    "df_Oct['age'] = 2015-df_Oct['birth year'][df_Oct['usertype'] == 'Subscriber']\n",
    "df_Nov['age'] = 2015-df_Nov['birth year'][df_Nov['usertype'] == 'Subscriber']\n",
    "df_Dec['age'] = 2015-df_Dec['birth year'][df_Dec['usertype'] == 'Subscriber']"
   ]
  },
  {
   "cell_type": "code",
   "execution_count": 12,
   "metadata": {
    "collapsed": false
   },
   "outputs": [],
   "source": [
    "#Convert to seasons\n",
    "winter = pd.concat([df_Jan, df_Feb, df_Dec])\n",
    "spring = pd.concat([df_Mar,df_Apr,df_May])\n",
    "summer = pd.concat([df_Jun,df_Jul,df_Aug])\n",
    "fall = pd.concat([df_Sep, df_Oct, df_Nov])"
   ]
  },
  {
   "cell_type": "code",
   "execution_count": 14,
   "metadata": {
    "collapsed": true
   },
   "outputs": [],
   "source": [
    "bins = np.arange(10, 99, 10)\n",
    "winter_age_dist = winter['age'].groupby(pd.cut(winter['age'], bins)).agg([count_nonzero])\n",
    "spring_age_dist = spring['age'].groupby(pd.cut(spring['age'], bins)).agg([count_nonzero])\n",
    "summer_age_dist = summer['age'].groupby(pd.cut(summer['age'], bins)).agg([count_nonzero])\n",
    "fall_age_dist = fall['age'].groupby(pd.cut(fall['age'], bins)).agg([count_nonzero])"
   ]
  },
  {
   "cell_type": "code",
   "execution_count": 22,
   "metadata": {
    "collapsed": false
   },
   "outputs": [
    {
     "name": "stdout",
     "output_type": "stream",
     "text": [
      "KS: winter, normal fit (1.0, 0.0)\n",
      "KS: spring, normal fit (1.0, 0.0)\n",
      "KS: summer, normal fit (1.0, 0.0)\n",
      "KS: fall, normal fit (1.0, 0.0)\n",
      "AD: winter, normal fit (8415.0953397443518, array([ 0.576,  0.656,  0.787,  0.918,  1.092]), array([ 15. ,  10. ,   5. ,   2.5,   1. ]))\n",
      "AD: spring, normal fit (21748.271721743513, array([ 0.576,  0.656,  0.787,  0.918,  1.092]), array([ 15. ,  10. ,   5. ,   2.5,   1. ]))\n",
      "AD: summer, normal fit (41623.785302417353, array([ 0.576,  0.656,  0.787,  0.918,  1.092]), array([ 15. ,  10. ,   5. ,   2.5,   1. ]))\n",
      "AD: fall, normal fit (28475.285239466932, array([ 0.576,  0.656,  0.787,  0.918,  1.092]), array([ 15. ,  10. ,   5. ,   2.5,   1. ]))\n"
     ]
    }
   ],
   "source": [
    "#compare to normal\n",
    "\n",
    "#KS\n",
    "ksWinter = sps.kstest(winter_age_dist, 'norm')\n",
    "ksSpring = sps.kstest(spring_age_dist, 'norm')\n",
    "ksSummer = sps.kstest(summer_age_dist, 'norm')\n",
    "ksFall = sps.kstest(fall_age_dist, 'norm')\n",
    "print \"KS: winter, normal fit\", ksWinter\n",
    "print \"KS: spring, normal fit\", ksSpring\n",
    "print \"KS: summer, normal fit\", ksSummer\n",
    "print \"KS: fall, normal fit\", ksFall\n",
    "\n",
    "#Anderson Darling\n",
    "adWinter = sps.anderson(winter['age'].dropna(), 'norm')\n",
    "adSpring = sps.anderson(spring['age'].dropna(), 'norm')\n",
    "adSummer = sps.anderson(summer['age'].dropna(), 'norm')\n",
    "adFall = sps.anderson(fall['age'].dropna(), 'norm')\n",
    "print \"AD: winter, normal fit\", adWinter\n",
    "print \"AD: spring, normal fit\", adSpring\n",
    "print \"AD: summer, normal fit\", adSummer\n",
    "print \"AD: fall, normal fit\", adFall"
   ]
  },
  {
   "cell_type": "code",
   "execution_count": 23,
   "metadata": {
    "collapsed": false
   },
   "outputs": [
    {
     "name": "stdout",
     "output_type": "stream",
     "text": [
      "KS: winter, normal fit (1.0, 0.0)\n",
      "KS: spring, normal fit (1.0, 0.0)\n",
      "KS: summer, normal fit (1.0, 0.0)\n",
      "KS: fall, normal fit (1.0, 0.0)\n",
      "AD: winter, normal fit (8895.5756232019048, array([ 0.426,  0.563,  0.66 ,  0.769,  0.906,  1.01 ]), array([ 25. ,  10. ,   5. ,   2.5,   1. ,   0.5]))\n",
      "AD: spring, normal fit (21273.132476659259, array([ 0.426,  0.563,  0.66 ,  0.769,  0.906,  1.01 ]), array([ 25. ,  10. ,   5. ,   2.5,   1. ,   0.5]))\n",
      "AD: summer, normal fit (38453.292343733832, array([ 0.426,  0.563,  0.66 ,  0.769,  0.906,  1.01 ]), array([ 25. ,  10. ,   5. ,   2.5,   1. ,   0.5]))\n",
      "AD: fall, normal fit (26913.693069383968, array([ 0.426,  0.563,  0.66 ,  0.769,  0.906,  1.01 ]), array([ 25. ,  10. ,   5. ,   2.5,   1. ,   0.5]))\n"
     ]
    }
   ],
   "source": [
    "#compare to normal\n",
    "\n",
    "#KS\n",
    "ksWinter = sps.kstest(winter_age_dist, 'logistic')\n",
    "ksSpring = sps.kstest(spring_age_dist, 'logistic')\n",
    "ksSummer = sps.kstest(summer_age_dist, 'logistic')\n",
    "ksFall = sps.kstest(fall_age_dist, 'logistic')\n",
    "print \"KS: winter, normal fit\", ksWinter\n",
    "print \"KS: spring, normal fit\", ksSpring\n",
    "print \"KS: summer, normal fit\", ksSummer\n",
    "print \"KS: fall, normal fit\", ksFall\n",
    "\n",
    "#Anderson Darling\n",
    "adWinter = sps.anderson(winter['age'].dropna(), 'logistic')\n",
    "adSpring = sps.anderson(spring['age'].dropna(), 'logistic')\n",
    "adSummer = sps.anderson(summer['age'].dropna(), 'logistic')\n",
    "adFall = sps.anderson(fall['age'].dropna(), 'logistic')\n",
    "print \"AD: winter, normal fit\", adWinter\n",
    "print \"AD: spring, normal fit\", adSpring\n",
    "print \"AD: summer, normal fit\", adSummer\n",
    "print \"AD: fall, normal fit\", adFall"
   ]
  },
  {
   "cell_type": "markdown",
   "metadata": {},
   "source": [
    "There appears to be no change between a comparison between a logistic model and a normal distribution for the KS test. However, the AD test seems to fit the logistic model somewhat better than the normal model, given that each of the seasons has a lower AD test statistic (although still significant)."
   ]
  }
 ],
 "metadata": {
  "kernelspec": {
   "display_name": "Python 2",
   "language": "python",
   "name": "python2"
  },
  "language_info": {
   "codemirror_mode": {
    "name": "ipython",
    "version": 2
   },
   "file_extension": ".py",
   "mimetype": "text/x-python",
   "name": "python",
   "nbconvert_exporter": "python",
   "pygments_lexer": "ipython2",
   "version": "2.7.10"
  }
 },
 "nbformat": 4,
 "nbformat_minor": 0
}
